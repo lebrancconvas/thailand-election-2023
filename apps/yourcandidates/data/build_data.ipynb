{
 "cells": [
  {
   "cell_type": "markdown",
   "metadata": {},
   "source": [
    "# Electoral district"
   ]
  },
  {
   "cell_type": "code",
   "execution_count": null,
   "metadata": {},
   "outputs": [],
   "source": [
    "import json\n",
    "import pandas as pd\n",
    "from faker import Faker"
   ]
  },
  {
   "cell_type": "code",
   "execution_count": null,
   "metadata": {},
   "outputs": [],
   "source": [
    "post_code_df = pd.read_csv('_62_postcode.csv').drop_duplicates(subset=['จังหวัด','อำเภอ'])\n",
    "electoral_district_df = pd.read_csv('66_Vote62_election-zones.csv')"
   ]
  },
  {
   "cell_type": "code",
   "execution_count": null,
   "metadata": {
    "scrolled": false
   },
   "outputs": [],
   "source": [
    "electoral_district_df[electoral_district_df.duplicated(['จังหวัด', 'อำเภอ', 'ตำบล'])]"
   ]
  },
  {
   "cell_type": "markdown",
   "metadata": {},
   "source": [
    "district object\n",
    "```\n",
    "{'district': 'คลองท่อม',\n",
    " 'province': 'กระบี่',\n",
    " 'subDistrict': [{name: 'ตำบล 1'}, ...,],\n",
    " 'electoral': [{'fk': 'กระบี่-3'}]}\n",
    "```"
   ]
  },
  {
   "cell_type": "code",
   "execution_count": null,
   "metadata": {},
   "outputs": [],
   "source": [
    "electoral_district_df = electoral_district_df.assign(\n",
    "    pk=electoral_district_df.apply(lambda row: \"{}-{}\".format(row['จังหวัด'], row['เขตเลือกตั้ง.1']), axis=1))"
   ]
  },
  {
   "cell_type": "code",
   "execution_count": null,
   "metadata": {
    "scrolled": false
   },
   "outputs": [],
   "source": [
    "district_list = list()\n",
    "for (province,district,subdistrict,thesaban), gdf in (electoral_district_df\n",
    "                                                      .fillna('')\n",
    "                                                      .groupby(['จังหวัด', 'อำเภอ', 'ตำบล', 'เทศบาล'])):\n",
    "    district_list.append(dict(\n",
    "        province=province,\n",
    "        district=district,\n",
    "        subDistrict=subdistrict,\n",
    "        thesaban=thesaban,\n",
    "        electoralFk=gdf['pk'].tolist(),\n",
    "    ))"
   ]
  },
  {
   "cell_type": "code",
   "execution_count": null,
   "metadata": {},
   "outputs": [],
   "source": [
    "belongs_to_one_electoral_district = (electoral_district_df.groupby(['จังหวัด', 'อำเภอ',])['pk'].apply(\n",
    "    lambda elect_dist: len(elect_dist.unique()) == 1\n",
    "))"
   ]
  },
  {
   "cell_type": "code",
   "execution_count": null,
   "metadata": {},
   "outputs": [],
   "source": [
    "belongs_to_one_electoral_district.loc[('กระบี่', 'อ่าวลึก')]"
   ]
  },
  {
   "cell_type": "code",
   "execution_count": null,
   "metadata": {
    "scrolled": false
   },
   "outputs": [],
   "source": [
    "electdistrict = dict()\n",
    "for (province, elec_num, elecPk), gdf in electoral_district_df.groupby(['จังหวัด', 'เขตเลือกตั้ง.1', 'pk']):\n",
    "    _district_list=[]\n",
    "    for (district), subdist_df in gdf.groupby(['อำเภอ']):\n",
    "        sub_districts = []\n",
    "        for subd, thesaban in subdist_df[['ตำบล','เทศบาล']].values:\n",
    "            if pd.isna(thesaban):\n",
    "                sub_districts.append(subd)\n",
    "            else:\n",
    "                sub_districts.append(f'{subd} ({thesaban})')\n",
    "\n",
    "        _district_list.append(dict(\n",
    "            name=district,\n",
    "            subDistricts=sub_districts,\n",
    "            belongsToOneElecDist=bool(belongs_to_one_electoral_district.loc[(province,district)]))\n",
    "        )\n",
    "    electdistrict[elecPk] = dict(\n",
    "        province=gdf['จังหวัด'].tolist()[0],\n",
    "        districts=_district_list,\n",
    "        electoralDistrictNumber=int(elec_num),\n",
    "    )"
   ]
  },
  {
   "cell_type": "code",
   "execution_count": null,
   "metadata": {},
   "outputs": [],
   "source": [
    "with open('district_province_list.json', 'w') as fp:\n",
    "    json.dump(district_list, fp, ensure_ascii=False)"
   ]
  },
  {
   "cell_type": "code",
   "execution_count": null,
   "metadata": {},
   "outputs": [],
   "source": [
    "with open('electoral_district_table.json', 'w') as fp:\n",
    "    json.dump(electdistrict, fp, ensure_ascii=False)"
   ]
  },
  {
   "cell_type": "markdown",
   "metadata": {},
   "source": [
    "# Candidates data"
   ]
  },
  {
   "cell_type": "code",
   "execution_count": null,
   "metadata": {},
   "outputs": [],
   "source": [
    "import re\n",
    "import requests\n",
    "import os\n",
    "import numpy as np"
   ]
  },
  {
   "cell_type": "code",
   "execution_count": null,
   "metadata": {},
   "outputs": [],
   "source": [
    "electoral_dir = 'electorals'\n",
    "os.makedirs(electoral_dir, exist_ok=True)"
   ]
  },
  {
   "cell_type": "code",
   "execution_count": null,
   "metadata": {},
   "outputs": [],
   "source": [
    "candidates_df = pd.read_csv('66_WV_Candidates.csv')\n",
    "party_number_df = pd.read_csv('66_WV_Party.csv')\n",
    "pm_candidates_df = pd.read_csv('66_WV_PMCandidate.csv')\n",
    "twfu_parties=pd.read_csv('./Parties_exported_1.csv').set_index('Id',)\n",
    "twfu_people=pd.read_csv('./People_exported_1.csv')"
   ]
  },
  {
   "cell_type": "code",
   "execution_count": null,
   "metadata": {},
   "outputs": [],
   "source": [
    "candidates_df.loc[candidates_df.zone.isna(), 'zone'] = -1\n",
    "# change data type\n",
    "candidates_df.loc[:,'zone'] = candidates_df.zone.astype(int)"
   ]
  },
  {
   "cell_type": "code",
   "execution_count": null,
   "metadata": {},
   "outputs": [],
   "source": [
    "# set party with no number to -1\n",
    "party_number_df.loc[:, 'partylist_no'] = party_number_df.partylist_no.apply(\n",
    "    lambda x: int(x) if str(x).isdigit() else -1)"
   ]
  },
  {
   "cell_type": "code",
   "execution_count": null,
   "metadata": {},
   "outputs": [],
   "source": [
    "# filter\n",
    "twfu_parties = twfu_parties[twfu_parties.PartyType == 'พรรค']\n",
    "# get url\n",
    "def get_url(s):\n",
    "    if isinstance(s, str):\n",
    "        url = re.sub('.*\\((.*)\\)','\\\\1', s)\n",
    "        if url != 'undefined': return url\n",
    "    return ''\n",
    "twfu_parties.loc[:,'image_url'] = twfu_parties.Images.apply(get_url)"
   ]
  },
  {
   "cell_type": "code",
   "execution_count": null,
   "metadata": {},
   "outputs": [],
   "source": [
    "# create table\n",
    "party_data = twfu_parties[['image_url', 'Name']].set_index('Name').to_dict()"
   ]
  },
  {
   "cell_type": "code",
   "execution_count": null,
   "metadata": {},
   "outputs": [],
   "source": [
    "# add number\n",
    "party_data['number'] = party_number_df.set_index('party').to_dict()['partylist_no']"
   ]
  },
  {
   "cell_type": "code",
   "execution_count": null,
   "metadata": {},
   "outputs": [],
   "source": [
    "# add website\n",
    "party_data['website'] = twfu_parties[~twfu_parties['Website'].isna()][\n",
    "    ['Website', 'Name']].set_index('Name').to_dict()"
   ]
  },
  {
   "cell_type": "code",
   "execution_count": null,
   "metadata": {},
   "outputs": [],
   "source": [
    "people_image_url = twfu_people.set_index('Name').Images.apply(get_url).to_dict()"
   ]
  },
  {
   "cell_type": "code",
   "execution_count": null,
   "metadata": {},
   "outputs": [],
   "source": [
    "# add Prime minister candidates\n",
    "party_data['pm_candidates'] = dict()\n",
    "for party, party_df in pm_candidates_df.sort_values('order').groupby('party'):\n",
    "    party_data['pm_candidates'][party] = [{'Name': name,\n",
    "                                           'Image': people_image_url.get(name,'')}\n",
    "                                          for name in party_df.name]"
   ]
  },
  {
   "cell_type": "code",
   "execution_count": null,
   "metadata": {},
   "outputs": [],
   "source": [
    "# promisetracker party\n",
    "resp = requests.get('https://raw.githubusercontent.com/wevisdemo/promise-tracker/main/data/parties.json')\n",
    "promisetracker_parties = resp.json()"
   ]
  },
  {
   "cell_type": "code",
   "execution_count": null,
   "metadata": {},
   "outputs": [],
   "source": [
    "party_data['promisetracker_urls'] = dict()\n",
    "for party in promisetracker_parties:\n",
    "    party_name_mabe_many = party['name']\n",
    "    for party_name in party_name_mabe_many.split('/'): # อนาคตใหม่/ก้าวไกล\n",
    "        party_data['promisetracker_urls'][party_name] =\\\n",
    "            'https://promisetracker.wevis.info/explore?party='+party_name_mabe_many"
   ]
  },
  {
   "cell_type": "code",
   "execution_count": null,
   "metadata": {},
   "outputs": [],
   "source": [
    "# law watch\n",
    "resp = requests.get('https://raw.githubusercontent.com/wevisdemo/law-watch/main/src/data/parties.ts')\n",
    "law_watch_parties_string = re.findall('\\[[^\\]]*\\]', resp.content.decode().replace('\\n',' '))"
   ]
  },
  {
   "cell_type": "code",
   "execution_count": null,
   "metadata": {},
   "outputs": [],
   "source": [
    "party_data['law_watch_urls'] = dict()\n",
    "for list_string in law_watch_parties_string[:2]:\n",
    "    party_list = json.loads(re.sub('\\'', '\"',list_string))\n",
    "    for party in party_list:\n",
    "        party_data['law_watch_urls'][party] = 'https://wevis.info/law-watch#investigate-section'"
   ]
  },
  {
   "cell_type": "code",
   "execution_count": null,
   "metadata": {},
   "outputs": [],
   "source": [
    "# They work for us\n",
    "# if the party has ever been a government or opposition\n",
    "theyworkforus_parties = twfu_parties[~twfu_parties.PartyGroup.isna()].Name.tolist()\n",
    "party_data['theyworkforus_urls'] = {party: f'https://theyworkforus.wevis.info/party/{party}'\n",
    "                                for party in theyworkforus_parties}"
   ]
  },
  {
   "cell_type": "code",
   "execution_count": null,
   "metadata": {},
   "outputs": [],
   "source": [
    "parties_table_ep = (\n",
    "    'https://sheets.wevis.info/api/v1/db/public/shared-view/'\n",
    "    '40065196-c978-4d7a-b3fb-fb84694383a7'\n",
    "    '/rows'\n",
    "    '?'\n",
    "    'l=900'\n",
    "    '&f=Name,PartyType,PartyGroup,Images,IsActive,Website'\n",
    ")\n",
    "resp = requests.get(parties_table_ep)\n",
    "parties_table = resp.json()['data']['list']"
   ]
  },
  {
   "cell_type": "code",
   "execution_count": null,
   "metadata": {},
   "outputs": [],
   "source": [
    "def get_image_url(image):\n",
    "    if 'url' in image.keys():\n",
    "        return image['url']\n",
    "    elif 'path' in image.keys():\n",
    "        return 'https://sheets.wevis.info/' + image['path'] "
   ]
  },
  {
   "cell_type": "code",
   "execution_count": null,
   "metadata": {},
   "outputs": [],
   "source": [
    "# image url\n",
    "for party in parties_table:\n",
    "    if isinstance(party['Images'], list) and len(party['Images']): # if has image\n",
    "        image = party['Images'][0]\n",
    "        party_data['image_url'][party['Name']] = get_image_url(image)"
   ]
  },
  {
   "cell_type": "code",
   "execution_count": null,
   "metadata": {},
   "outputs": [],
   "source": [
    "people_party_history_ep = (\n",
    "    'https://sheets.wevis.info/api/v1/db/public/shared-view/'\n",
    "    '572c5e5c-a3d8-440f-9a70-3c4c773543ec'\n",
    "    '/rows'\n",
    "    '?'\n",
    "    'nested[PeoplePartyHistory][fields]=Party,EstablishedDate'\n",
    "    '&'\n",
    "    'f=Name,PeoplePartyHistory,Id,Images'\n",
    "    '&'\n",
    "    'l=900')\n",
    "resp = requests.get(people_party_history_ep)\n",
    "people_history_table = resp.json()['data']['list']"
   ]
  },
  {
   "cell_type": "code",
   "execution_count": null,
   "metadata": {},
   "outputs": [],
   "source": [
    "DISSOVED_DATE = '2023-03-01'"
   ]
  },
  {
   "cell_type": "code",
   "execution_count": null,
   "metadata": {},
   "outputs": [],
   "source": [
    "person_is_government = dict()\n",
    "person_is_opposition = dict()\n",
    "for person in people_history_table:\n",
    "    if isinstance(person['Images'], list) and len(person['Images']): # if has image\n",
    "        image = person['Images'][0]\n",
    "        people_image_url[person['Name']] = get_image_url(image)\n",
    "    for party in person['PeoplePartyHistory']:\n",
    "        if party['EstablishedDate'] is not None and (party['EstablishedDate'] > DISSOVED_DATE):\n",
    "            person['PeoplePartyHistory'].remove(party)\n",
    "        else:\n",
    "            party_id = party['Party']['Id']\n",
    "            if party_id in twfu_parties.index:\n",
    "                party_group = twfu_parties.loc[party_id].PartyGroup\n",
    "                person_is_government[person['Name']] =\\\n",
    "                    person_is_government.get(person['Name'], False) or (party_group == 'ร่วมรัฐบาล')\n",
    "                person_is_opposition[person['Name']] =\\\n",
    "                    person_is_opposition.get(person['Name'], False) or (party_group == 'ฝ่ายค้าน')"
   ]
  },
  {
   "cell_type": "code",
   "execution_count": null,
   "metadata": {
    "scrolled": false
   },
   "outputs": [],
   "source": [
    "party_data['is_government'] = (twfu_parties[~twfu_parties['PartyGroup'].isna()]\\\n",
    "                                .set_index('Name')['PartyGroup'] == 'ร่วมรัฐบาล')\\\n",
    "                                .to_dict()\n",
    "party_data['is_opposition'] = (twfu_parties[~twfu_parties['PartyGroup'].isna()]\n",
    "                               .set_index('Name')['PartyGroup'] == 'ฝ่ายค้าน')\\\n",
    "                                .to_dict()"
   ]
  },
  {
   "cell_type": "code",
   "execution_count": null,
   "metadata": {},
   "outputs": [],
   "source": [
    "twfu_people.set_index('Name')[['Birthdate','Education','ExOccupation0']].loc['ประยุทธ์ จันทร์โอชา','Birthdate']"
   ]
  },
  {
   "cell_type": "code",
   "execution_count": null,
   "metadata": {},
   "outputs": [],
   "source": [
    "person_table_name_as_index = twfu_people.set_index('Name')"
   ]
  },
  {
   "cell_type": "code",
   "execution_count": null,
   "metadata": {},
   "outputs": [],
   "source": [
    "def data_getter(key, person_name):\n",
    "    try:\n",
    "        return person_table_name_as_index[~person_table_name_as_index[key].isna()].loc[person_name, key]\n",
    "    except KeyError:\n",
    "        return None"
   ]
  },
  {
   "cell_type": "code",
   "execution_count": null,
   "metadata": {},
   "outputs": [],
   "source": [
    "people_list = []\n",
    "party_table = dict()\n",
    "for i, row in candidates_df.iterrows():\n",
    "    if row.party not in party_table.keys():\n",
    "        party_table[row.party] = dict(\n",
    "            Name=row.party,\n",
    "            Number=party_data['number'][row.party],\n",
    "            Image=party_data['image_url'].get(row.party),\n",
    "            Candidate=party_data['pm_candidates'].get(row.party, []),\n",
    "            PastGovernment=party_data['is_government'].get(row.party, False),\n",
    "            PastOpposition=party_data['is_opposition'].get(row.party, False),\n",
    "            # TODO: fix this on production\n",
    "            Policy=f'https://election66.wevis.info/policyshop/',\n",
    "            Promise=party_data['promisetracker_urls'].get(row.party),\n",
    "            Law=party_data['law_watch_urls'].get(row.party),\n",
    "            Others=party_data['theyworkforus_urls'].get(row.party),\n",
    "            Website=party_data['website'].get(row.party),\n",
    "            PartyList=list()\n",
    "        )\n",
    "    is_past_mp = person_is_government.get(row['name'], False) or person_is_opposition.get(row['name'], False)\n",
    "    if row.mptype == 'เขต':\n",
    "        people_list.append(dict(\n",
    "            Name=row['name'],\n",
    "            Number=row['number'],\n",
    "            Birthdate=data_getter('Birthdate', row['name']), # TODO:\n",
    "            Education=data_getter('Education', row['name']), # TODO:\n",
    "            ExOccupation=data_getter('ExOccupation0', row['name']), # TODO\n",
    "            Party=row.party,\n",
    "            Province=row.province,\n",
    "            Zone=row.zone,\n",
    "            Image=people_image_url.get(row['name']),\n",
    "            PastMP=is_past_mp,\n",
    "            PastGovernment=person_is_government.get(row['name'], False),\n",
    "            PastOpposition=person_is_opposition.get(row['name'], False),\n",
    "        ))\n",
    "    elif row.mptype == 'บัญชีรายชื่อ':\n",
    "        party_table[row.party]['PartyList'].append(dict(\n",
    "            Name=row['name'],\n",
    "            Number=row.number,\n",
    "            PastMP=is_past_mp,\n",
    "            # PastGovernment=person_is_government.get(row['name'], False),\n",
    "            # PastOpposition=person_is_opposition.get(row['name'], False),\n",
    "        ))"
   ]
  },
  {
   "cell_type": "code",
   "execution_count": null,
   "metadata": {},
   "outputs": [],
   "source": [
    "for dist_key, district in electdistrict.items():\n",
    "    electoral_people_list = [p for p in people_list\n",
    "                             if p['Province'] == district['province'] # filter out\n",
    "                             and p['Zone'] == district['electoralDistrictNumber']]\n",
    "    \n",
    "#     electoral_parties = [p['Party'] for p in electoral_people_list if p['Number'] != -1]\n",
    "#     electoral_parties.sort(key=lambda p: party_table[p]['Number'])\n",
    "    file_path = os.path.join(electoral_dir,f'{dist_key}.json')\n",
    "    electoral_data = dict(People=electoral_people_list,)\n",
    "    \n",
    "    with open(file_path,'w') as fp:\n",
    "        json.dump(electoral_data, fp, ensure_ascii=False)"
   ]
  },
  {
   "cell_type": "code",
   "execution_count": null,
   "metadata": {},
   "outputs": [],
   "source": [
    "with open('parties.json', 'w') as fp:\n",
    "    json.dump(party_table, fp, ensure_ascii=False)"
   ]
  },
  {
   "cell_type": "code",
   "execution_count": null,
   "metadata": {},
   "outputs": [],
   "source": []
  }
 ],
 "metadata": {
  "kernelspec": {
   "display_name": "Python 3 (ipykernel)",
   "language": "python",
   "name": "python3"
  },
  "language_info": {
   "codemirror_mode": {
    "name": "ipython",
    "version": 3
   },
   "file_extension": ".py",
   "mimetype": "text/x-python",
   "name": "python",
   "nbconvert_exporter": "python",
   "pygments_lexer": "ipython3",
   "version": "3.9.7"
  }
 },
 "nbformat": 4,
 "nbformat_minor": 2
}
