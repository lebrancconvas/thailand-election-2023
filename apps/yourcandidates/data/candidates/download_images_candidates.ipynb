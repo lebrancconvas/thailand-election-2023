{
 "cells": [
  {
   "cell_type": "code",
   "execution_count": 1,
   "metadata": {},
   "outputs": [],
   "source": [
    "import requests\n",
    "from PIL import Image\n",
    "import json\n",
    "import os\n",
    "import re"
   ]
  },
  {
   "cell_type": "markdown",
   "metadata": {},
   "source": [
    "# พรรคภูมิใจไทย"
   ]
  },
  {
   "cell_type": "code",
   "execution_count": 2,
   "metadata": {},
   "outputs": [],
   "source": [
    "with open('./bhumjai-thai.json') as fp:\n",
    "  candidates = json.load(fp)['posts']"
   ]
  },
  {
   "cell_type": "code",
   "execution_count": 8,
   "metadata": {},
   "outputs": [],
   "source": [
    "parent_dir = '../../static/'\n",
    "directory = 'candidates/ภูมิใจไทย'\n",
    "if not os.path.exists(parent_dir + directory):\n",
    "  os.makedirs(parent_dir + directory)"
   ]
  },
  {
   "cell_type": "code",
   "execution_count": 9,
   "metadata": {},
   "outputs": [],
   "source": [
    "string_replace = ['นางสาว', 'นาย', 'นาง', 'ร.ต.ต.', 'จ.อ.', 'พ.ต.อ.']\n",
    "for person in candidates:\n",
    "  image_url = person['acf']['image']['sizes']['thumbnail']\n",
    "  filename = person['acf']['first_name'] + '_' + person['acf']['last_name']\n",
    "  filename =re.sub(\"\\t| \", '', filename)\n",
    "  for s in string_replace :\n",
    "    filename = filename.replace(s, '', 1)\n",
    "  image_fpath = directory + '/' + filename + '.webp'\n",
    "  if not os.path.exists(parent_dir + image_fpath):\n",
    "    response = requests.get(image_url)\n",
    "    if response.status_code:\n",
    "      fp = open(parent_dir + image_fpath, 'wb')\n",
    "      fp.write(response.content)\n",
    "      fp.close()\n",
    "\n",
    "    electoral_key = person['acf']['province']['label'] + '-' + person['acf']['district']\n",
    "    fpath = '../electorals/' + electoral_key + '.json'\n",
    "    fp = open(fpath)\n",
    "    electoral_data = json.load(fp)\n",
    "    for p in electoral_data['People']:\n",
    "      if p['Party'] == 'ภูมิใจไทย':\n",
    "        p['Image'] = \"/yourcandidates/\" + image_fpath\n",
    "    fp.close()\n",
    "    with open(fpath, 'w') as fp:\n",
    "      json.dump(electoral_data, fp, ensure_ascii=False)"
   ]
  },
  {
   "cell_type": "markdown",
   "metadata": {},
   "source": [
    "# พรรคเพื่อไทย"
   ]
  },
  {
   "cell_type": "code",
   "execution_count": 73,
   "metadata": {},
   "outputs": [],
   "source": [
    "import requests\n",
    "import json\n",
    "import os"
   ]
  },
  {
   "cell_type": "code",
   "execution_count": 74,
   "metadata": {},
   "outputs": [],
   "source": [
    "with open('./pheu-thai.json') as fp:\n",
    "  candidates = json.load(fp)"
   ]
  },
  {
   "cell_type": "code",
   "execution_count": 76,
   "metadata": {},
   "outputs": [],
   "source": [
    "parent_dir = '../../static'\n",
    "directory = '/candidates/เพื่อไทย'\n",
    "if not os.path.exists(parent_dir + directory) :\n",
    "    os.makedirs(parent_dir + directory)"
   ]
  },
  {
   "cell_type": "code",
   "execution_count": 77,
   "metadata": {},
   "outputs": [],
   "source": [
    "candidates = candidates['representatives']"
   ]
  },
  {
   "cell_type": "code",
   "execution_count": 78,
   "metadata": {},
   "outputs": [],
   "source": [
    "for person in candidates:\n",
    "  image_url = person['picUrl']\n",
    "  filename = person['slug']\n",
    "  image_fpath = directory + '/' + filename + '.webp'\n",
    "  \n",
    "  if not os.path.exists(parent_dir + image_fpath):\n",
    "    response = requests.get(image_url)\n",
    "    if response.status_code:\n",
    "        fp = open(parent_dir + image_fpath, 'wb')\n",
    "        fp.write(response.content)\n",
    "        fp.close()\n",
    "\n",
    "    electoral_key = person['province'] + '-' + str(person['areaNo'])\n",
    "    fpath = '../electorals/' + electoral_key + '.json'\n",
    "    fp = open(fpath)\n",
    "    electoral_data = json.load(fp)\n",
    "    for p in electoral_data['People']:\n",
    "      if p['Party'] == 'เพื่อไทย':\n",
    "        p['Image'] = \"/yourcandidates\" + image_fpath\n",
    "        if len(person['educations']) != 0:\n",
    "          p['Education'] = person['educations'][0]['degree']\n",
    "    fp.close()\n",
    "    with open(fpath, 'w') as fp:\n",
    "      json.dump(electoral_data, fp, ensure_ascii=False)\n"
   ]
  },
  {
   "attachments": {},
   "cell_type": "markdown",
   "metadata": {},
   "source": [
    "# พรรคก้าวไกล"
   ]
  },
  {
   "cell_type": "code",
   "execution_count": 10,
   "metadata": {},
   "outputs": [],
   "source": [
    "import requests\n",
    "import json\n",
    "import os"
   ]
  },
  {
   "cell_type": "code",
   "execution_count": 11,
   "metadata": {},
   "outputs": [],
   "source": [
    "with open('./moveforward.json') as fp:\n",
    "  data = json.load(fp)\n",
    "\n",
    "data_province = data['data']['data']"
   ]
  },
  {
   "cell_type": "code",
   "execution_count": 12,
   "metadata": {},
   "outputs": [],
   "source": [
    "parent_dir = '../../static'\n",
    "directory = '/candidates/ก้าวไกล'\n",
    "if not os.path.exists(parent_dir + directory) :\n",
    "    os.makedirs(parent_dir + directory)"
   ]
  },
  {
   "cell_type": "code",
   "execution_count": 13,
   "metadata": {},
   "outputs": [],
   "source": [
    "for province in data_province:\n",
    "  candidates = province['attributes']['members']['data']\n",
    "  for person in candidates:\n",
    "    \n",
    "    if person['attributes']['firstname'] == '-' : \n",
    "      continue\n",
    "\n",
    "    id_person = person['id']\n",
    "    person = person['attributes']\n",
    "\n",
    "    image_url = \"https://d3c5xfgl7q2ci6.cloudfront.net\" + person['avatar']['picture']['data']['attributes']['formats']['thumbnail']['url']\n",
    "    filename = person['firstname'] + '-' + person['lastname']\n",
    "    image_fpath = directory + '/' + filename + '.webp'\n",
    "\n",
    "    if not os.path.exists(parent_dir + image_fpath):\n",
    "      response = requests.get(image_url)\n",
    "      if response.status_code:\n",
    "          fp = open(parent_dir + image_fpath, 'wb')\n",
    "          fp.write(response.content)\n",
    "          fp.close()\n",
    "\n",
    "      province_name = province['attributes']['name']\n",
    "      zone = ''\n",
    "      for z in province['attributes']['districts']['data'] :\n",
    "        # match id member with zone\n",
    "        if z['attributes']['member']['data']['id'] == id_person:\n",
    "          zone = z['attributes']['number']\n",
    "\n",
    "      electoral_key = province_name + '-' + str(zone)\n",
    "      fpath = '../electorals/' + electoral_key + '.json'\n",
    "      fp = open(fpath)\n",
    "      electoral_data = json.load(fp)\n",
    "\n",
    "      for p in electoral_data['People']:\n",
    "        if p['Party'] == 'ก้าวไกล':\n",
    "          p['Image'] = \"/yourcandidates\" + image_fpath\n",
    "      fp.close()\n",
    "      with open(fpath, 'w') as fp:\n",
    "        json.dump(electoral_data, fp, ensure_ascii=False)\n"
   ]
  }
 ],
 "metadata": {
  "kernelspec": {
   "display_name": "envtf",
   "language": "python",
   "name": "envtf"
  },
  "language_info": {
   "codemirror_mode": {
    "name": "ipython",
    "version": 3
   },
   "file_extension": ".py",
   "mimetype": "text/x-python",
   "name": "python",
   "nbconvert_exporter": "python",
   "pygments_lexer": "ipython3",
   "version": "3.9.15"
  }
 },
 "nbformat": 4,
 "nbformat_minor": 2
}
