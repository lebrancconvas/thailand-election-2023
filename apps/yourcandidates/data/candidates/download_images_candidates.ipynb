{
 "cells": [
  {
   "cell_type": "code",
   "execution_count": 20,
   "metadata": {},
   "outputs": [],
   "source": [
    "import requests\n",
    "from PIL import Image\n",
    "import json\n",
    "import os\n",
    "import re"
   ]
  },
  {
   "attachments": {},
   "cell_type": "markdown",
   "metadata": {},
   "source": [
    "# พรรคภูมิใจไทย"
   ]
  },
  {
   "cell_type": "code",
   "execution_count": 21,
   "metadata": {},
   "outputs": [],
   "source": [
    "with open('./bhumjai-thai.json') as fp:\n",
    "    candidates = json.load(fp)['posts']"
   ]
  },
  {
   "cell_type": "code",
   "execution_count": 22,
   "metadata": {},
   "outputs": [],
   "source": [
    "parent_dir = '../../static/'\n",
    "directory = 'candidates/ภูมิใจไทย'\n",
    "if os.path.exists(parent_dir + directory) == False :\n",
    "    os.makedirs(parent_dir + directory)"
   ]
  },
  {
   "cell_type": "code",
   "execution_count": 23,
   "metadata": {},
   "outputs": [],
   "source": [
    "string_replace = ['นางสาว', 'นาย', 'นาง', 'ร.ต.ต.', 'จ.อ.', 'พ.ต.อ.']\n",
    "for person in candidates:\n",
    "    image_url = person['acf']['image']['sizes']['thumbnail']\n",
    "    filename = person['acf']['first_name'] + '_' + person['acf']['last_name']\n",
    "    filename =re.sub(\"\\t| \", '', filename)\n",
    "    for s in string_replace :\n",
    "        filename = filename.replace(s, '', 1)\n",
    "\n",
    "    response = requests.get(image_url)\n",
    "    if response.status_code:\n",
    "        fp = open(parent_dir + directory + '/' + filename + '.webp', 'wb')\n",
    "        fp.write(response.content)\n",
    "        fp.close()\n",
    "\n",
    "        electoral_key = person['acf']['province']['label'] + '-' + person['acf']['district']\n",
    "        fpath = '../electorals/' + electoral_key + '.json'\n",
    "        fp = open(fpath)\n",
    "        electoral_data = json.load(fp)\n",
    "        for p in electoral_data['People']:\n",
    "            if p['Party'] == 'ภูมิใจไทย':\n",
    "                p['Image'] = \"/yourcandidates/\" + directory + '/' + filename + \".webp\"\n",
    "        fp.close()\n",
    "        with open(fpath, 'w') as fp:\n",
    "            json.dump(electoral_data, fp, ensure_ascii=False)"
   ]
  },
  {
   "cell_type": "code",
   "execution_count": 24,
   "metadata": {},
   "outputs": [
    {
     "data": {
      "text/plain": [
       "{'Name': 'มณเฑียร สงฆ์ประชา',\n",
       " 'Number': 9,\n",
       " 'Birthdate': '1957-02-15',\n",
       " 'Education': 'ปริญญาตรี',\n",
       " 'ExOccupation': 'สมาชิกสภาผู้แทนราษฎร',\n",
       " 'Party': 'ภูมิใจไทย',\n",
       " 'Province': 'ชัยนาท',\n",
       " 'Zone': 2,\n",
       " 'Image': '/yourcandidates/candidates/ภูมิใจไทย/มณเฑียร_สงฆ์ประชา.webp',\n",
       " 'PastMP': True,\n",
       " 'PastGovernment': True,\n",
       " 'PastOpposition': False}"
      ]
     },
     "execution_count": 24,
     "metadata": {},
     "output_type": "execute_result"
    }
   ],
   "source": [
    "for person in electoral_data['People']:\n",
    "    if person['Party'] == 'ภูมิใจไทย':\n",
    "        break\n",
    "person"
   ]
  },
  {
   "attachments": {},
   "cell_type": "markdown",
   "metadata": {},
   "source": [
    "# พรรคเพื่อไทย"
   ]
  },
  {
   "cell_type": "code",
   "execution_count": 25,
   "metadata": {},
   "outputs": [],
   "source": [
    "# from bs4 import BeaurifulSoup\n",
    "# import requests"
   ]
  },
  {
   "cell_type": "code",
   "execution_count": null,
   "metadata": {},
   "outputs": [],
   "source": []
  }
 ],
 "metadata": {
  "kernelspec": {
   "display_name": "envtf",
   "language": "python",
   "name": "envtf"
  },
  "language_info": {
   "codemirror_mode": {
    "name": "ipython",
    "version": 3
   },
   "file_extension": ".py",
   "mimetype": "text/x-python",
   "name": "python",
   "nbconvert_exporter": "python",
   "pygments_lexer": "ipython3",
   "version": "3.9.15"
  },
  "orig_nbformat": 4
 },
 "nbformat": 4,
 "nbformat_minor": 2
}
