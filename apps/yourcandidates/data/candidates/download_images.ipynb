{
 "cells": [
  {
   "cell_type": "code",
   "execution_count": 1,
   "id": "9dd4eca1",
   "metadata": {},
   "outputs": [],
   "source": [
    "import json"
   ]
  },
  {
   "cell_type": "markdown",
   "id": "740dd85f",
   "metadata": {},
   "source": [
    "# ภูมิใจไทย"
   ]
  },
  {
   "cell_type": "code",
   "execution_count": 5,
   "id": "9da2dac3",
   "metadata": {},
   "outputs": [],
   "source": [
    "with open('./bhumjai-thai.json') as fp:\n",
    "    data = json.load(fp)['posts']"
   ]
  },
  {
   "cell_type": "code",
   "execution_count": null,
   "id": "fca41191",
   "metadata": {
    "scrolled": false
   },
   "outputs": [
    {
     "name": "stdout",
     "output_type": "stream",
     "text": [
      "no candidate found in the table {'first_name': 'นายสรรเสริญ', 'last_name': 'คำภูแก้ว', 'candidate_number': '', 'is_party_list': False, 'bio': '', 'image': {'ID': 85619, 'id': 85619, 'title': 'R5550518', 'filename': 'R5550518.jpg', 'filesize': 35084, 'url': 'https://admin.bhumjaithai.com/wp-content/uploads/2023/04/R5550518.jpg', 'link': 'https://admin.bhumjaithai.com/r5550518/', 'alt': '', 'author': '29', 'description': '', 'caption': '', 'name': 'r5550518', 'status': 'inherit', 'uploaded_to': 0, 'date': '2023-04-04 07:03:43', 'modified': '2023-04-04 07:03:43', 'menu_order': 0, 'mime_type': 'image/jpeg', 'type': 'image', 'subtype': 'jpeg', 'icon': 'https://admin.bhumjaithai.com/wp-includes/images/media/default.png', 'width': 720, 'height': 720, 'sizes': {'thumbnail': 'https://admin.bhumjaithai.com/wp-content/uploads/2023/04/R5550518-150x150.jpg', 'thumbnail-width': 150, 'thumbnail-height': 150, 'medium': 'https://admin.bhumjaithai.com/wp-content/uploads/2023/04/R5550518-300x300.jpg', 'medium-width': 300, 'medium-height': 300, 'medium_large': 'https://admin.bhumjaithai.com/wp-content/uploads/2023/04/R5550518.jpg', 'medium_large-width': 720, 'medium_large-height': 720, 'large': 'https://admin.bhumjaithai.com/wp-content/uploads/2023/04/R5550518.jpg', 'large-width': 720, 'large-height': 720}}, 'province': {'value': '29', 'label': 'อุดรธานี'}, 'district': '10', 'is_councilor': False}\n"
     ]
    }
   ],
   "source": [
    "for candidate in data:\n",
    "    candidate = candidate['acf']\n",
    "    electoral_key = candidate['province']['label'] + '-' + candidate['district']\n",
    "    image_url = candidate['image']['sizes']['thumbnail']\n",
    "    fpath = '../electorals/' + electoral_key + '.json'\n",
    "    fp = open(fpath)\n",
    "    electoral_data = json.load(fp)\n",
    "    found_candidate = False\n",
    "    for person in electoral_data['People']:\n",
    "        if person['Party'] == 'ภูมิใจไทย':\n",
    "            person['Image'] = image_url\n",
    "            found_candidate = True\n",
    "            break\n",
    "    if found_candidate == False: print('no candidate found in the table', candidate)\n",
    "    fp.close()\n",
    "    with open(fpath, 'w') as fp:\n",
    "        json.dump(electoral_data, fp, ensure_ascii=False)"
   ]
  },
  {
   "cell_type": "code",
   "execution_count": 21,
   "id": "1ffffaaa",
   "metadata": {},
   "outputs": [],
   "source": [
    "for person in electoral_data['People']:\n",
    "    if person['Party'] == 'ภูมิใจไทย':\n",
    "        break"
   ]
  },
  {
   "cell_type": "code",
   "execution_count": 22,
   "id": "901cba25",
   "metadata": {},
   "outputs": [
    {
     "data": {
      "text/plain": [
       "{'Name': 'สกุลรัตน์ ทิพย์วรรณงาม',\n",
       " 'Number': 3,\n",
       " 'Birthdate': None,\n",
       " 'Education': None,\n",
       " 'ExOccupation': None,\n",
       " 'Party': 'ภูมิใจไทย',\n",
       " 'Province': 'กรุงเทพมหานคร',\n",
       " 'Zone': 21,\n",
       " 'Image': None,\n",
       " 'PastMP': False,\n",
       " 'PastGovernment': False,\n",
       " 'PastOpposition': False}"
      ]
     },
     "execution_count": 22,
     "metadata": {},
     "output_type": "execute_result"
    }
   ],
   "source": [
    "person"
   ]
  },
  {
   "cell_type": "code",
   "execution_count": null,
   "id": "9afb20fb",
   "metadata": {},
   "outputs": [],
   "source": []
  }
 ],
 "metadata": {
  "kernelspec": {
   "display_name": "Python 3 (ipykernel)",
   "language": "python",
   "name": "python3"
  },
  "language_info": {
   "codemirror_mode": {
    "name": "ipython",
    "version": 3
   },
   "file_extension": ".py",
   "mimetype": "text/x-python",
   "name": "python",
   "nbconvert_exporter": "python",
   "pygments_lexer": "ipython3",
   "version": "3.9.7"
  }
 },
 "nbformat": 4,
 "nbformat_minor": 5
}
